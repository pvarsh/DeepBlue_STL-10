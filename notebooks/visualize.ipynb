{
 "metadata": {
  "language": "lua",
  "name": "",
  "signature": "sha256:284c8429adbc8846e34b2779ccc014308319030e8c4d17e00b650247a871a351"
 },
 "nbformat": 3,
 "nbformat_minor": 0,
 "worksheets": [
  {
   "cells": [
    {
     "cell_type": "code",
     "collapsed": false,
     "input": [
      "require 'torch'\n",
      "require 'image'\n",
      "matio = require 'matio'"
     ],
     "language": "python",
     "metadata": {},
     "outputs": [],
     "prompt_number": 1
    },
    {
     "cell_type": "code",
     "collapsed": false,
     "input": [
      "loaded = matio.load('../data/train.mat')"
     ],
     "language": "python",
     "metadata": {},
     "outputs": [],
     "prompt_number": 3
    },
    {
     "cell_type": "code",
     "collapsed": false,
     "input": [
      "loaded"
     ],
     "language": "python",
     "metadata": {},
     "outputs": [
      {
       "metadata": {},
       "output_type": "pyout",
       "prompt_number": 4,
       "text": [
        "{\n",
        "  y : DoubleTensor - size: 5000x1\n",
        "  X : ByteTensor - size: 5000x27648\n",
        "  fold_indices : \n",
        "    {\n",
        "      1 : DoubleTensor - size: 1000x1\n",
        "      2 : DoubleTensor - size: 1000x1\n",
        "      3 : DoubleTensor - size: 1000x1\n",
        "      4 : DoubleTensor - size: 1000x1\n",
        "      5 : DoubleTensor - size: 1000x1\n",
        "      6 : DoubleTensor - size: 1000x1\n",
        "      7 : DoubleTensor - size: 1000x1\n",
        "      8 : DoubleTensor - size: 1000x1\n",
        "      9 : DoubleTensor - size: 1000x1\n",
        "      10 : DoubleTensor - size: 1000x1\n",
        "    }\n",
        "  class_names : \n",
        "    {\n",
        "      1 : CharTensor - size: 1x8\n",
        "      2 : CharTensor - size: 1x4\n",
        "      3 : CharTensor - size: 1x3\n",
        "      4 : CharTensor - size: 1x3\n",
        "      5 : CharTensor - size: 1x4\n",
        "      6 : CharTensor - size: 1x3\n",
        "      7 : CharTensor - size: 1x5\n",
        "      8 : CharTensor - size: 1x6\n",
        "      9 : CharTensor - size: 1x4\n",
        "      10 : CharTensor - size: 1x5\n",
        "    }\n",
        "}\n"
       ]
      }
     ],
     "prompt_number": 4
    },
    {
     "cell_type": "code",
     "collapsed": false,
     "input": [
      "reshaped = loaded.X:reshape(5000,3,96,96)"
     ],
     "language": "python",
     "metadata": {},
     "outputs": [],
     "prompt_number": 5
    },
    {
     "cell_type": "code",
     "collapsed": false,
     "input": [
      "transposed = reshaped:transpose(3,4)"
     ],
     "language": "python",
     "metadata": {},
     "outputs": [],
     "prompt_number": 8
    },
    {
     "cell_type": "code",
     "collapsed": false,
     "input": [
      "itorch.image(transposed[5000])"
     ],
     "language": "python",
     "metadata": {},
     "outputs": [
      {
       "metadata": {
        "png": {
         "height": 96,
         "width": 96
        }
       },
       "output_type": "display_data",
       "png": "[encoded data removed]",
       "text": [
        "Console does not support images"
       ]
      },
      {
       "metadata": {},
       "output_type": "pyout",
       "prompt_number": 17,
       "text": [
        "\n"
       ]
      }
     ],
     "prompt_number": 17
    },
    {
     "cell_type": "code",
     "collapsed": false,
     "input": [
      "trainData = {\n",
      "   data = transposed,\n",
      "   labels = loaded.y,\n",
      "   size = function() return 5000 end\n",
      "}"
     ],
     "language": "python",
     "metadata": {},
     "outputs": [],
     "prompt_number": 20
    },
    {
     "cell_type": "code",
     "collapsed": false,
     "input": [
      "torch.save('../data/trainData.dat',trainData)"
     ],
     "language": "python",
     "metadata": {},
     "outputs": [
      {
       "metadata": {},
       "output_type": "pyout",
       "prompt_number": 22,
       "text": [
        "\n"
       ]
      }
     ],
     "prompt_number": 22
    }
   ],
   "metadata": {}
  }
 ]
}