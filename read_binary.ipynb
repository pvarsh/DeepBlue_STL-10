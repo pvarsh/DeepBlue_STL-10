{
 "metadata": {
  "language": "lua",
  "name": "",
  "signature": "sha256:4ac8674d300655aeeb1244606d13229385d3fa161cfcc1b4fad79bd4d0e69f04"
 },
 "nbformat": 3,
 "nbformat_minor": 0,
 "worksheets": [
  {
   "cells": [
    {
     "cell_type": "heading",
     "level": 6,
     "metadata": {},
     "source": [
      "Reading binary files"
     ]
    },
    {
     "cell_type": "code",
     "collapsed": false,
     "input": [
      "require 'nn';\n",
      "require 'image';"
     ],
     "language": "python",
     "metadata": {},
     "outputs": [],
     "prompt_number": 33
    },
    {
     "cell_type": "code",
     "collapsed": false,
     "input": [
      "path = \"/Users/petervarshavsky/Dropbox/NYU/deeplearning/data/a1/stl10_binary/\"\n",
      "f_train = \"train_X.bin\""
     ],
     "language": "python",
     "metadata": {},
     "outputs": [],
     "prompt_number": 34
    },
    {
     "cell_type": "code",
     "collapsed": false,
     "input": [
      "data = torch.DiskFile(path .. f_train, 'r')"
     ],
     "language": "python",
     "metadata": {},
     "outputs": [],
     "prompt_number": 26
    },
    {
     "cell_type": "code",
     "collapsed": false,
     "input": [
      "print '==> loading data'\n",
      "-- Open the files and set little endian encoding\n",
      "data_fd = torch.DiskFile(path .. \"train_X.bin\", \"r\", true)\n",
      "data_fd:binary():littleEndianEncoding()\n",
      "-- label_fd = torch.DiskFile(\"train_y.bin\", \"r\", true)\n",
      "-- label_fd:binary():littleEndianEncoding()\n",
      "\n",
      "-- data_fd_tst = torch.DiskFile(\"test_X.bin\", \"r\", true)\n",
      "-- data_fd_tst:binary():littleEndianEncoding()\n",
      "-- label_fd_tst = torch.DiskFile(\"test_y.bin\", \"r\", true)\n",
      "-- label_fd_tst:binary():littleEndianEncoding()\n",
      "\n",
      "-- Create and read the data\n",
      "data = torch.ByteTensor(5000, 3, 96, 96)\n",
      "data_fd:readByte(data:storage())\n",
      "data = data:transpose(4,3)\n",
      "-- labels = torch.ByteTensor(5000)\n",
      "-- label_fd:readByte(labels:storage())\n",
      "\n",
      "-- data_tst = torch.ByteTensor(8000, 3, 96, 96)\n",
      "-- data_fd_tst:readByte(data:storage())\n",
      "-- labels_tst = torch.ByteTensor(8000)\n",
      "-- label_fd_tst:readByte(labels:storage())"
     ],
     "language": "python",
     "metadata": {},
     "outputs": [
      {
       "metadata": {},
       "output_type": "pyout",
       "prompt_number": 89,
       "text": [
        "==> loading data\t\n"
       ]
      }
     ],
     "prompt_number": 89
    },
    {
     "cell_type": "code",
     "collapsed": false,
     "input": [],
     "language": "python",
     "metadata": {},
     "outputs": []
    }
   ],
   "metadata": {}
  }
 ]
}